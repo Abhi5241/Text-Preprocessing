{
  "cells": [
    {
      "cell_type": "code",
      "execution_count": null,
      "metadata": {
        "id": "jhKwrtAqq3fN",
        "outputId": "c392d8e2-7417-4921-a5dd-edc9a33bd4ec"
      },
      "outputs": [
        {
          "name": "stderr",
          "output_type": "stream",
          "text": [
            "/tmp/ipykernel_650/4080736814.py:1: DeprecationWarning: \n",
            "Pyarrow will become a required dependency of pandas in the next major release of pandas (pandas 3.0),\n",
            "(to allow more performant data types, such as the Arrow string type, and better interoperability with other libraries)\n",
            "but was not found to be installed on your system.\n",
            "If this would cause problems for you,\n",
            "please provide us feedback at https://github.com/pandas-dev/pandas/issues/54466\n",
            "        \n",
            "  import pandas as pd\n"
          ]
        }
      ],
      "source": [
        "import pandas as pd"
      ]
    },
    {
      "cell_type": "code",
      "execution_count": null,
      "metadata": {
        "id": "pxU8-P3aq3fX"
      },
      "outputs": [],
      "source": [
        "data=pd.DataFrame({\"text\":[\"people watch ineuron\",\"ineuron watch ineuron\",\"people write comment\",\"ineuron write comment\"],\"output\":[1,1,0,0]})"
      ]
    },
    {
      "cell_type": "code",
      "execution_count": null,
      "metadata": {
        "id": "5VYnZsmzq3fY",
        "outputId": "8e1bb7ec-3490-4a92-84d2-df01f49e3c77"
      },
      "outputs": [
        {
          "data": {
            "text/html": [
              "<div>\n",
              "<style scoped>\n",
              "    .dataframe tbody tr th:only-of-type {\n",
              "        vertical-align: middle;\n",
              "    }\n",
              "\n",
              "    .dataframe tbody tr th {\n",
              "        vertical-align: top;\n",
              "    }\n",
              "\n",
              "    .dataframe thead th {\n",
              "        text-align: right;\n",
              "    }\n",
              "</style>\n",
              "<table border=\"1\" class=\"dataframe\">\n",
              "  <thead>\n",
              "    <tr style=\"text-align: right;\">\n",
              "      <th></th>\n",
              "      <th>text</th>\n",
              "      <th>output</th>\n",
              "    </tr>\n",
              "  </thead>\n",
              "  <tbody>\n",
              "    <tr>\n",
              "      <th>0</th>\n",
              "      <td>people watch ineuron</td>\n",
              "      <td>1</td>\n",
              "    </tr>\n",
              "    <tr>\n",
              "      <th>1</th>\n",
              "      <td>ineuron watch ineuron</td>\n",
              "      <td>1</td>\n",
              "    </tr>\n",
              "    <tr>\n",
              "      <th>2</th>\n",
              "      <td>people write comment</td>\n",
              "      <td>0</td>\n",
              "    </tr>\n",
              "    <tr>\n",
              "      <th>3</th>\n",
              "      <td>ineuron write comment</td>\n",
              "      <td>0</td>\n",
              "    </tr>\n",
              "  </tbody>\n",
              "</table>\n",
              "</div>"
            ],
            "text/plain": [
              "                    text  output\n",
              "0   people watch ineuron       1\n",
              "1  ineuron watch ineuron       1\n",
              "2   people write comment       0\n",
              "3  ineuron write comment       0"
            ]
          },
          "execution_count": 6,
          "metadata": {},
          "output_type": "execute_result"
        }
      ],
      "source": [
        "data.head()"
      ]
    },
    {
      "cell_type": "code",
      "execution_count": null,
      "metadata": {
        "id": "fhdZc03fq3fY"
      },
      "outputs": [],
      "source": [
        "#Document Matrix(BOW)"
      ]
    },
    {
      "cell_type": "code",
      "execution_count": null,
      "metadata": {
        "id": "amcDWrzYq3fZ"
      },
      "outputs": [],
      "source": [
        "from sklearn.feature_extraction.text import CountVectorizer"
      ]
    },
    {
      "cell_type": "code",
      "execution_count": null,
      "metadata": {
        "id": "teti0xk6q3fa"
      },
      "outputs": [],
      "source": [
        "BOW=CountVectorizer()"
      ]
    },
    {
      "cell_type": "code",
      "execution_count": null,
      "metadata": {
        "id": "SV5SZFkmq3fa"
      },
      "outputs": [],
      "source": [
        "document_matrix=BOW.fit_transform(data[\"text\"])"
      ]
    },
    {
      "cell_type": "code",
      "execution_count": null,
      "metadata": {
        "id": "cMOsrBChq3fb",
        "outputId": "ff2bcd5c-a411-46dd-c2e5-6e7ba6ab8ed9"
      },
      "outputs": [
        {
          "data": {
            "text/plain": [
              "<4x5 sparse matrix of type '<class 'numpy.int64'>'\n",
              "\twith 11 stored elements in Compressed Sparse Row format>"
            ]
          },
          "execution_count": 12,
          "metadata": {},
          "output_type": "execute_result"
        }
      ],
      "source": [
        "document_matrix"
      ]
    },
    {
      "cell_type": "code",
      "execution_count": null,
      "metadata": {
        "id": "FCQdPZopq3fc",
        "outputId": "dea3e574-597f-4cd3-cd86-7af12754513a"
      },
      "outputs": [
        {
          "data": {
            "text/plain": [
              "{'people': 2, 'watch': 3, 'ineuron': 1, 'write': 4, 'comment': 0}"
            ]
          },
          "execution_count": 13,
          "metadata": {},
          "output_type": "execute_result"
        }
      ],
      "source": [
        "BOW.vocabulary_"
      ]
    },
    {
      "cell_type": "code",
      "execution_count": null,
      "metadata": {
        "id": "PdW3lCcGq3fd",
        "outputId": "d33966d0-8eb7-4610-a1e3-7c974915f7d2"
      },
      "outputs": [
        {
          "data": {
            "text/plain": [
              "array([[0, 1, 1, 1, 0]])"
            ]
          },
          "execution_count": 15,
          "metadata": {},
          "output_type": "execute_result"
        }
      ],
      "source": [
        "document_matrix[0].toarray()"
      ]
    },
    {
      "cell_type": "code",
      "execution_count": null,
      "metadata": {
        "id": "YyailFGJq3fe",
        "outputId": "72e8aceb-cf3f-4957-d36a-13930f41c485"
      },
      "outputs": [
        {
          "data": {
            "text/plain": [
              "array([[0, 2, 0, 1, 0]])"
            ]
          },
          "execution_count": 16,
          "metadata": {},
          "output_type": "execute_result"
        }
      ],
      "source": [
        "document_matrix[1].toarray()"
      ]
    },
    {
      "cell_type": "code",
      "execution_count": null,
      "metadata": {
        "id": "zj9iiy_Eq3fe",
        "outputId": "ed744ccd-269b-494b-96c6-2c4f73625c00"
      },
      "outputs": [
        {
          "data": {
            "text/plain": [
              "array([[1, 0, 1, 0, 1]])"
            ]
          },
          "execution_count": 17,
          "metadata": {},
          "output_type": "execute_result"
        }
      ],
      "source": [
        "document_matrix[2].toarray()"
      ]
    },
    {
      "cell_type": "code",
      "execution_count": null,
      "metadata": {
        "id": "24E-veCyq3fe",
        "outputId": "82e8bf63-27ac-41f7-d93b-4df06f6719c8"
      },
      "outputs": [
        {
          "data": {
            "text/plain": [
              "array([[1, 1, 0, 0, 1]])"
            ]
          },
          "execution_count": 18,
          "metadata": {},
          "output_type": "execute_result"
        }
      ],
      "source": [
        "document_matrix[3].toarray()"
      ]
    },
    {
      "cell_type": "code",
      "execution_count": null,
      "metadata": {
        "id": "IVzd_CTbq3ff"
      },
      "outputs": [],
      "source": [
        "bigram=CountVectorizer(ngram_range=(2,2))"
      ]
    },
    {
      "cell_type": "code",
      "execution_count": null,
      "metadata": {
        "id": "HvhhETRHq3ff"
      },
      "outputs": [],
      "source": [
        "bigramvocab=bigram.fit_transform(data[\"text\"])"
      ]
    },
    {
      "cell_type": "code",
      "execution_count": null,
      "metadata": {
        "id": "0SzOytfsq3ff",
        "outputId": "e7b86a19-3877-4b02-e99b-777006237429"
      },
      "outputs": [
        {
          "data": {
            "text/plain": [
              "{'people watch': 2,\n",
              " 'watch ineuron': 4,\n",
              " 'ineuron watch': 0,\n",
              " 'people write': 3,\n",
              " 'write comment': 5,\n",
              " 'ineuron write': 1}"
            ]
          },
          "execution_count": 22,
          "metadata": {},
          "output_type": "execute_result"
        }
      ],
      "source": [
        "bigram.vocabulary_"
      ]
    },
    {
      "cell_type": "code",
      "execution_count": null,
      "metadata": {
        "id": "P3i014f7q3fg"
      },
      "outputs": [],
      "source": [
        "trigram=CountVectorizer(ngram_range=(3,3))"
      ]
    },
    {
      "cell_type": "code",
      "execution_count": null,
      "metadata": {
        "id": "PdAwFsaNq3fg"
      },
      "outputs": [],
      "source": [
        "trigramdata=trigram.fit_transform(data[\"text\"])"
      ]
    },
    {
      "cell_type": "code",
      "execution_count": null,
      "metadata": {
        "id": "ZyiVgIJbq3fg",
        "outputId": "97b0affe-0d9a-4edd-f37d-cb4471199283"
      },
      "outputs": [
        {
          "data": {
            "text/plain": [
              "{'people watch ineuron': 2,\n",
              " 'ineuron watch ineuron': 0,\n",
              " 'people write comment': 3,\n",
              " 'ineuron write comment': 1}"
            ]
          },
          "execution_count": 25,
          "metadata": {},
          "output_type": "execute_result"
        }
      ],
      "source": [
        "trigram.vocabulary_"
      ]
    },
    {
      "cell_type": "code",
      "execution_count": null,
      "metadata": {
        "id": "KJ9y4upvq3fg"
      },
      "outputs": [],
      "source": [
        "mix=CountVectorizer(ngram_range=(1,2))"
      ]
    },
    {
      "cell_type": "code",
      "execution_count": null,
      "metadata": {
        "id": "GodnQKdqq3fg"
      },
      "outputs": [],
      "source": [
        "mix_vocab=mix.fit_transform(data[\"text\"])"
      ]
    },
    {
      "cell_type": "code",
      "execution_count": null,
      "metadata": {
        "id": "JkeCnAcuq3fh",
        "outputId": "374549f7-16eb-4308-a7b1-3932689d8c0e"
      },
      "outputs": [
        {
          "data": {
            "text/plain": [
              "{'people': 4,\n",
              " 'watch': 7,\n",
              " 'ineuron': 1,\n",
              " 'people watch': 5,\n",
              " 'watch ineuron': 8,\n",
              " 'ineuron watch': 2,\n",
              " 'write': 9,\n",
              " 'comment': 0,\n",
              " 'people write': 6,\n",
              " 'write comment': 10,\n",
              " 'ineuron write': 3}"
            ]
          },
          "execution_count": 28,
          "metadata": {},
          "output_type": "execute_result"
        }
      ],
      "source": [
        "mix.vocabulary_"
      ]
    },
    {
      "cell_type": "code",
      "execution_count": null,
      "metadata": {
        "id": "V3cy-Lmdq3fj"
      },
      "outputs": [],
      "source": [
        "from sklearn.feature_extraction.text import TfidfVectorizer"
      ]
    },
    {
      "cell_type": "code",
      "execution_count": null,
      "metadata": {
        "id": "G8an3JgCq3fk"
      },
      "outputs": [],
      "source": [
        "tfidf=TfidfVectorizer()"
      ]
    },
    {
      "cell_type": "code",
      "execution_count": null,
      "metadata": {
        "id": "JKakIQj3q3fk",
        "outputId": "6fb5f7a6-dc91-41cb-f4e3-1309a37200ba"
      },
      "outputs": [
        {
          "data": {
            "text/plain": [
              "array([[0.        , 0.49681612, 0.61366674, 0.61366674, 0.        ],\n",
              "       [0.        , 0.8508161 , 0.        , 0.52546357, 0.        ],\n",
              "       [0.57735027, 0.        , 0.57735027, 0.        , 0.57735027],\n",
              "       [0.61366674, 0.49681612, 0.        , 0.        , 0.61366674]])"
            ]
          },
          "execution_count": 33,
          "metadata": {},
          "output_type": "execute_result"
        }
      ],
      "source": [
        "tfidf.fit_transform(data[\"text\"]).toarray()"
      ]
    },
    {
      "cell_type": "code",
      "execution_count": null,
      "metadata": {
        "id": "WYedP5loq3fl",
        "outputId": "ab125c74-f4e8-4b3e-b14c-74774745727a"
      },
      "outputs": [
        {
          "data": {
            "text/plain": [
              "array(['comment', 'ineuron', 'people', 'watch', 'write'], dtype=object)"
            ]
          },
          "execution_count": 34,
          "metadata": {},
          "output_type": "execute_result"
        }
      ],
      "source": [
        "tfidf.get_feature_names_out()"
      ]
    },
    {
      "cell_type": "markdown",
      "metadata": {
        "id": "c-KPn-Wkq3fm"
      },
      "source": []
    },
    {
      "cell_type": "code",
      "execution_count": null,
      "metadata": {
        "id": "Ux86YlTJq3fo",
        "outputId": "9c18e187-bc5c-47e5-8cbb-5671b67d53cb"
      },
      "outputs": [
        {
          "data": {
            "text/plain": [
              "array([1.51082562, 1.22314355, 1.51082562, 1.51082562, 1.51082562])"
            ]
          },
          "execution_count": 35,
          "metadata": {},
          "output_type": "execute_result"
        }
      ],
      "source": [
        "tfidf.idf_"
      ]
    },
    {
      "cell_type": "code",
      "execution_count": null,
      "metadata": {
        "id": "yX8oYScCq3fo"
      },
      "outputs": [],
      "source": []
    }
  ],
  "metadata": {
    "kernelspec": {
      "display_name": "Python 3.9.13 ('base')",
      "language": "python",
      "name": "python3"
    },
    "language_info": {
      "codemirror_mode": {
        "name": "ipython",
        "version": 3
      },
      "file_extension": ".py",
      "mimetype": "text/x-python",
      "name": "python",
      "nbconvert_exporter": "python",
      "pygments_lexer": "ipython3",
      "version": "3.9.13"
    },
    "orig_nbformat": 4,
    "vscode": {
      "interpreter": {
        "hash": "ba7d6a92d9c7295bfdcfceb88786d0d9300abf0a1802f116b1f16ab64cdf39a0"
      }
    },
    "colab": {
      "provenance": []
    }
  },
  "nbformat": 4,
  "nbformat_minor": 0
}